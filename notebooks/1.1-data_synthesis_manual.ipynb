{
 "cells": [
  {
   "cell_type": "code",
   "execution_count": null,
   "metadata": {},
   "outputs": [],
   "source": [
    "import pandas as pd\n",
    "import seaborn as sns\n",
    "import matplotlib.pyplot as plt"
   ]
  },
  {
   "cell_type": "code",
   "execution_count": null,
   "metadata": {},
   "outputs": [],
   "source": [
    "#data_path = \"../data/interim\"\n",
    "knit_data = pd.read_csv(\"../data/interim/transactions_sd_knits.csv\")"
   ]
  },
  {
   "cell_type": "code",
   "execution_count": null,
   "metadata": {},
   "outputs": [],
   "source": [
    "knit_data.info()"
   ]
  },
  {
   "cell_type": "markdown",
   "metadata": {},
   "source": [
    "### resample data using pandas sample"
   ]
  },
  {
   "cell_type": "code",
   "execution_count": null,
   "metadata": {},
   "outputs": [],
   "source": [
    "def resample_data(df):\n",
    "    '''\n",
    "    Randomly resamples rows with replacement from input data, fraction of axis items to return is set to 80.\n",
    "        Parameters: \n",
    "            df (df): Dataframe from which to resample rows.\n",
    "        Returns:\n",
    "            df (df): Dataframe containing resampled rows.\n",
    "    '''\n",
    "    resampled_df = knit_data.sample(frac=80, replace=True, random_state=1)\n",
    "    return resampled_df"
   ]
  },
  {
   "cell_type": "code",
   "execution_count": null,
   "metadata": {},
   "outputs": [],
   "source": [
    "sample_manual = resample_data(knit_data)"
   ]
  },
  {
   "cell_type": "markdown",
   "metadata": {},
   "source": [
    "### compare original and resampled data"
   ]
  },
  {
   "cell_type": "code",
   "execution_count": null,
   "metadata": {},
   "outputs": [],
   "source": [
    "print('knit data shape: ' + str(knit_data.shape))\n",
    "print('resampled data shape: ' + str(sample_manual.shape))"
   ]
  },
  {
   "cell_type": "code",
   "execution_count": null,
   "metadata": {},
   "outputs": [],
   "source": [
    "print('knit data unique products: ' + str(knit_data['p_id'].nunique()))\n",
    "print('resampled data unique products: ' + str(sample_manual['p_id'].nunique()))"
   ]
  },
  {
   "cell_type": "code",
   "execution_count": null,
   "metadata": {},
   "outputs": [],
   "source": [
    "knit_data['transaction_date'] = pd.to_datetime(knit_data['transaction_date'], infer_datetime_format=True)\n",
    "sample_manual['transaction_date'] = pd.to_datetime(knit_data['transaction_date'], infer_datetime_format=True)"
   ]
  },
  {
   "cell_type": "code",
   "execution_count": null,
   "metadata": {},
   "outputs": [],
   "source": [
    "sns.relplot(\n",
    "    data = knit_data.groupby(['transaction_date']).size().to_frame(\"count\").reset_index(),\n",
    "    x = \"transaction_date\",\n",
    "    y = \"count\",\n",
    "    aspect = 3,\n",
    "    kind=\"line\",\n",
    "    height=4\n",
    ")\n",
    "\n",
    "sns.relplot(\n",
    "    data = sample_manual.groupby(['transaction_date']).size().to_frame(\"count\").reset_index(),\n",
    "    x = \"transaction_date\",\n",
    "    y = \"count\",\n",
    "    aspect = 4,\n",
    "    kind=\"line\",\n",
    "    height=3\n",
    ")\n"
   ]
  },
  {
   "cell_type": "code",
   "execution_count": null,
   "metadata": {},
   "outputs": [],
   "source": [
    "fig, ax =plt.subplots(2,1,figsize=(20,10))\n",
    "sns.histplot(knit_data[\"label_desc\"].astype('category'), ax=ax[0]).set(title='knit_data')\n",
    "sns.histplot(sample_manual[\"label_desc\"].astype('category'), ax=ax[1]).set(title='sample_manual')\n",
    "fig.show()"
   ]
  },
  {
   "cell_type": "code",
   "execution_count": null,
   "metadata": {},
   "outputs": [],
   "source": [
    "fig, ax =plt.subplots(2,1,figsize=(20,10))\n",
    "sns.histplot(knit_data[\"color_simple\"].astype('category'), ax=ax[0]).set(title='knit_data')\n",
    "sns.histplot(sample_manual[\"color_simple\"].astype('category'), ax=ax[1]).set(title='sample_manual')\n",
    "fig.show()"
   ]
  },
  {
   "cell_type": "code",
   "execution_count": null,
   "metadata": {},
   "outputs": [],
   "source": [
    "fig, ax =plt.subplots(2,1,figsize=(20,10))\n",
    "sns.histplot(knit_data[\"quantity\"].astype('category'), ax=ax[0]).set(title='knit_data')\n",
    "sns.histplot(sample_manual[\"quantity\"].astype('category'), ax=ax[1]).set(title='sample_manual')\n",
    "fig.show()"
   ]
  },
  {
   "cell_type": "code",
   "execution_count": null,
   "metadata": {},
   "outputs": [],
   "source": [
    "fig, ax =plt.subplots(2,1,figsize=(20,10))\n",
    "sns.histplot(knit_data[\"amount\"], ax=ax[0]).set(title='knit_data')\n",
    "sns.histplot(sample_manual[\"amount\"], ax=ax[1]).set(title='sample_manual')\n",
    "fig.show()"
   ]
  },
  {
   "cell_type": "markdown",
   "metadata": {},
   "source": [
    "### remap identifiable data"
   ]
  },
  {
   "cell_type": "code",
   "execution_count": null,
   "metadata": {},
   "outputs": [],
   "source": [
    "def remap_identifiable_data(df):\n",
    "    '''\n",
    "    Remaps identifying information in the 'p_id', 'sub_department_desc', are 'label_desc' columns of the original data.\n",
    "        Parameters:\n",
    "            df (df): Dataframe in which to remap identifying information.\n",
    "        Returns:\n",
    "            df (df): Dataframe with identifying information remapped.\n",
    "    '''\n",
    "    p_id_array = df['p_id'].unique()\n",
    "    dict_p_id = {}\n",
    "    for i in range(len(p_id_array)):\n",
    "        dict_p_id[p_id_array[i]] = \"p_\"+str(i + 1)\n",
    "\n",
    "    dict_sub_dept = {'W L/S KNITS' : 'KNITS'}\n",
    "\n",
    "    label_desc_array = df['label_desc'].unique()\n",
    "    dict_label_desc = {}\n",
    "    for i in range(len(label_desc_array)):\n",
    "        dict_label_desc[label_desc_array[i]] = \"lab_\"+str(i + 1)\n",
    "\n",
    "    df.replace({\"p_id\": dict_p_id, \"sub_department_desc\": dict_sub_dept, \"label_desc\" : dict_label_desc}, inplace=True)\n",
    "\n",
    "    return df"
   ]
  },
  {
   "cell_type": "code",
   "execution_count": null,
   "metadata": {},
   "outputs": [],
   "source": [
    "sample_manual = remap_identifiable_data(sample_manual)"
   ]
  },
  {
   "cell_type": "code",
   "execution_count": null,
   "metadata": {},
   "outputs": [],
   "source": [
    "sample_manual.head()"
   ]
  },
  {
   "cell_type": "markdown",
   "metadata": {},
   "source": [
    "### write resampled data to interim folder "
   ]
  },
  {
   "cell_type": "code",
   "execution_count": null,
   "metadata": {},
   "outputs": [],
   "source": [
    "sample_manual.to_csv(\"../data/interim/transactions_sd_knits_resampled.csv\", index=False)"
   ]
  }
 ],
 "metadata": {
  "interpreter": {
   "hash": "57727d540d2cdea30e42da3b647feb3a70b95224e671f1550702dd816d97d117"
  },
  "kernelspec": {
   "display_name": "Python 3 (ipykernel)",
   "language": "python",
   "name": "python3"
  },
  "language_info": {
   "codemirror_mode": {
    "name": "ipython",
    "version": 3
   },
   "file_extension": ".py",
   "mimetype": "text/x-python",
   "name": "python",
   "nbconvert_exporter": "python",
   "pygments_lexer": "ipython3",
   "version": "3.7.3"
  }
 },
 "nbformat": 4,
 "nbformat_minor": 2
}
