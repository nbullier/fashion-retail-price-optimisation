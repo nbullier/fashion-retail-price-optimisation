{
 "cells": [
  {
   "cell_type": "code",
   "execution_count": null,
   "id": "aa864b7d-ecb1-4396-8cc7-6116c8f7d594",
   "metadata": {
    "tags": []
   },
   "outputs": [],
   "source": [
    "import price_optim\n",
    "import numpy as np\n",
    "import pandas as pd\n",
    "from pathlib import Path"
   ]
  },
  {
   "cell_type": "markdown",
   "id": "06b2fb2b-bd7b-47f1-af99-85c102e6d93c",
   "metadata": {},
   "source": [
    "## Instantiate main object"
   ]
  },
  {
   "cell_type": "code",
   "execution_count": null,
   "id": "fb3d9229-bbdb-4960-aac4-993e72ff7de3",
   "metadata": {
    "tags": []
   },
   "outputs": [],
   "source": [
    "price_model = price_optim.PriceOptim()"
   ]
  },
  {
   "cell_type": "markdown",
   "id": "e9c4442c-193b-412a-96a9-73b2a7b320b8",
   "metadata": {},
   "source": [
    "## Load data"
   ]
  },
  {
   "cell_type": "code",
   "execution_count": null,
   "id": "0fd59f5e-e487-4cc1-a41f-bd74460a4f62",
   "metadata": {},
   "outputs": [],
   "source": [
    "prod_data = pd.read_excel(Path(price_model.path_data / 'raw/Product_data.xlsx'), sheet_name=\"Data\")\n",
    "trans_data = pd.read_excel(Path(price_model.path_data / 'raw/Transaction_data.xlsx'), sheet_name=\"Data\")"
   ]
  },
  {
   "cell_type": "markdown",
   "id": "09f8726b-19bf-4be9-8347-6a8104d605e9",
   "metadata": {},
   "source": [
    "## Preparing and cleaning data"
   ]
  },
  {
   "cell_type": "code",
   "execution_count": null,
   "id": "8b311d3c-635d-4354-a150-913a9e31f311",
   "metadata": {
    "scrolled": true
   },
   "outputs": [],
   "source": [
    "merged_data = price_model.data_process_cww(prod_data, trans_data)"
   ]
  },
  {
   "cell_type": "markdown",
   "id": "bfb67ac5-4827-4f4d-b17c-f1d9cdc66c2f",
   "metadata": {},
   "source": [
    "## Resampling original data"
   ]
  },
  {
   "cell_type": "code",
   "execution_count": null,
   "id": "638ee67d-7d7b-4951-bf34-d59269783223",
   "metadata": {},
   "outputs": [],
   "source": [
    "syn_data = price_model.data_synthesis(merged_data)"
   ]
  },
  {
   "cell_type": "markdown",
   "id": "11fc9c96-2f92-4dfc-b020-c043a443f6c2",
   "metadata": {},
   "source": [
    "## Additional data preparation, including aggregating data by week, generating engineered columns, appending synthetic star rating and sentiment columns, and adding google trend data for items in the subdepartment of interest and the colour of items considered."
   ]
  },
  {
   "cell_type": "code",
   "execution_count": null,
   "id": "257345b2-633a-4edd-a1fa-99c98b51d27a",
   "metadata": {},
   "outputs": [],
   "source": [
    "processed_data = price_model.feature_add(syn_data)"
   ]
  },
  {
   "cell_type": "markdown",
   "id": "5e463726-872c-4a69-95d8-1289c2091a26",
   "metadata": {},
   "source": [
    "## Demand prediction"
   ]
  },
  {
   "cell_type": "code",
   "execution_count": null,
   "id": "e3e78752-2664-499e-94ee-268ae4b164bf",
   "metadata": {},
   "outputs": [],
   "source": [
    "demand_matrix, prices, sum_prices = price_model.predict_demand(processed_data)"
   ]
  },
  {
   "cell_type": "markdown",
   "id": "35fe3098-55e3-462d-b766-9e4b00b35ee2",
   "metadata": {},
   "source": [
    "## Price optimization"
   ]
  },
  {
   "cell_type": "code",
   "execution_count": null,
   "id": "a9ade28a-367a-47ce-b5bd-7d0082e2b485",
   "metadata": {},
   "outputs": [],
   "source": [
    "optimal_prices, revenue_prediction = price_model.lp_mip_solver(demand_matrix, np.array(prices), sum_prices)\n",
    "print('Real Prices:' + str(price_model.actual_prices) + '\\nReal Revenue: ' + str(price_model.total_revenue) + '\\nPredicted Prices :' + str(optimal_prices) + '\\nPredicted Revenue: ' + str(revenue_prediction))"
   ]
  }
 ],
 "metadata": {
  "kernelspec": {
   "display_name": "Python 3 (ipykernel)",
   "language": "python",
   "name": "python3"
  },
  "language_info": {
   "codemirror_mode": {
    "name": "ipython",
    "version": 3
   },
   "file_extension": ".py",
   "mimetype": "text/x-python",
   "name": "python",
   "nbconvert_exporter": "python",
   "pygments_lexer": "ipython3",
   "version": "3.7.3"
  }
 },
 "nbformat": 4,
 "nbformat_minor": 5
}
